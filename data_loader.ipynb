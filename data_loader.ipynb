{
 "cells": [
  {
   "cell_type": "code",
   "execution_count": 9,
   "metadata": {},
   "outputs": [
    {
     "name": "stdout",
     "output_type": "stream",
     "text": [
      "[[   1.   nan   nan ...    3.   50.  150.]\n",
      " [   2.   nan   nan ...    2.  500. 1000.]\n",
      " [   3.   nan   nan ...    1.   30.   30.]\n",
      " ...\n",
      " [ 998.   nan   nan ...    4.   25.  100.]\n",
      " [ 999.   nan   nan ...    3.   50.  150.]\n",
      " [1000.   nan   nan ...    4.   30.  120.]]\n"
     ]
    }
   ],
   "source": [
    "import numpy as np\n",
    "\n",
    "def cargar_datos(ruta_archivo):\n",
    "    # Carga los datos del archivo CSV utilizando NumPy\n",
    "    datos = np.genfromtxt(ruta_archivo, delimiter=',', skip_header=1)\n",
    "    return datos\n",
    "\n",
    "if __name__ == \"__main__\":\n",
    "    ruta_archivo = r\"C:\\Users\\Andy\\Documents\\project1-retail-analytics\\retail_sales_dataset.csv\"\n",
    "    datos = cargar_datos(ruta_archivo)\n",
    "    print(datos)"
   ]
  },
  {
   "cell_type": "code",
   "execution_count": 7,
   "metadata": {},
   "outputs": [
    {
     "name": "stdout",
     "output_type": "stream",
     "text": [
      "Datos cargados:\n",
      "   Transaction ID        Date Customer ID  Gender  Age Product Category  \\\n",
      "0               1  2023-11-24     CUST001    Male   34           Beauty   \n",
      "1               2  2023-02-27     CUST002  Female   26         Clothing   \n",
      "2               3  2023-01-13     CUST003    Male   50      Electronics   \n",
      "3               4  2023-05-21     CUST004    Male   37         Clothing   \n",
      "4               5  2023-05-06     CUST005    Male   30           Beauty   \n",
      "\n",
      "   Quantity  Price per Unit  Total Amount  \n",
      "0         3              50           150  \n",
      "1         2             500          1000  \n",
      "2         1              30            30  \n",
      "3         1             500           500  \n",
      "4         2              50           100  \n"
     ]
    }
   ],
   "source": [
    "import pandas as pd\n",
    "\n",
    "# Carga los datos usando pandas\n",
    "ruta_archivo = r\"C:\\Users\\Andy\\Documents\\project1-retail-analytics\\retail_sales_dataset.csv\"\n",
    "datos_df = pd.read_csv(ruta_archivo)\n",
    "\n",
    "# Mostrar los primeros datos para verificar la carga correcta\n",
    "print(\"Datos cargados:\")\n",
    "print(datos_df.head())\n"
   ]
  }
 ],
 "metadata": {
  "kernelspec": {
   "display_name": "Python 3",
   "language": "python",
   "name": "python3"
  },
  "language_info": {
   "codemirror_mode": {
    "name": "ipython",
    "version": 3
   },
   "file_extension": ".py",
   "mimetype": "text/x-python",
   "name": "python",
   "nbconvert_exporter": "python",
   "pygments_lexer": "ipython3",
   "version": "3.12.6"
  }
 },
 "nbformat": 4,
 "nbformat_minor": 2
}
